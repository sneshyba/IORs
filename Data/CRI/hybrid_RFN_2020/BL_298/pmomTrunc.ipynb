{
 "cells": [
  {
   "cell_type": "code",
   "execution_count": 1,
   "metadata": {},
   "outputs": [],
   "source": [
    "# Get resources\n",
    "import numpy as np\n",
    "import sys\n",
    "sys.path.append('../../../../Programs/MieStuff/Code - sspstuff/ssp_pmom_pcode/')\n",
    "import pmomstuff4 as pm\n",
    "import scipy.io\n",
    "import copy\n",
    "import matplotlib.pyplot as plt"
   ]
  },
  {
   "cell_type": "code",
   "execution_count": 2,
   "metadata": {},
   "outputs": [],
   "source": [
    "%matplotlib notebook"
   ]
  },
  {
   "cell_type": "code",
   "execution_count": 20,
   "metadata": {},
   "outputs": [],
   "source": [
    "# Get filename -- make sure temperatures in paths are correct\n",
    "ncfilename = \"ssp_getpsd_BL298_S331_pmom.nc\"\n",
    "ncfilename_truncated = \"ssp_getpsd_BL298_S331_pmom_trunc.nc\""
   ]
  },
  {
   "cell_type": "code",
   "execution_count": 4,
   "metadata": {},
   "outputs": [],
   "source": [
    "# Get the netcdf data\n",
    "Npmomarray, pmomarray, \\\n",
    "wnum_mesh, reff_mesh, w0_mesh, qext_mesh, asym_mesh, \\\n",
    "wnum_list, reff_list, maxdim_list, volume_list, parea_list = \\\n",
    "pm.pmomload2(ncfilename)"
   ]
  },
  {
   "cell_type": "code",
   "execution_count": 5,
   "metadata": {},
   "outputs": [
    {
     "name": "stdout",
     "output_type": "stream",
     "text": [
      "(40, 4017)\n",
      "(40, 4017, 1000)\n",
      "(40, 4017)\n",
      "(40, 4017)\n",
      "(40, 4017)\n",
      "(40, 4017)\n",
      "(40, 4017)\n",
      "(4017, 1)\n",
      "(40, 1)\n",
      "(40, 1)\n",
      "(40, 1)\n",
      "(40, 1)\n",
      "40 4017 1000\n"
     ]
    }
   ],
   "source": [
    "# Report out dimensions\n",
    "print (Npmomarray.shape)\n",
    "print (pmomarray.shape)\n",
    "print (wnum_mesh.shape)\n",
    "print (reff_mesh.shape)\n",
    "print (w0_mesh.shape)\n",
    "print (qext_mesh.shape)\n",
    "print (asym_mesh.shape)\n",
    "print (wnum_list.shape)\n",
    "print (reff_list.shape)\n",
    "print (maxdim_list.shape)\n",
    "print (volume_list.shape)\n",
    "print (parea_list.shape)\n",
    "\n",
    "# Report & make local copies of dimension information\n",
    "N_reff, N_wnum, N_maxpmom = pmomarray.shape; print (N_reff, N_wnum, N_maxpmom)"
   ]
  },
  {
   "cell_type": "code",
   "execution_count": 16,
   "metadata": {},
   "outputs": [
    {
     "name": "stdout",
     "output_type": "stream",
     "text": [
      "(40, 4017, 25)\n"
     ]
    }
   ],
   "source": [
    "# Decide on a new # of pmoms to max out at\n",
    "N_maxpmom_new = 25 # This is 1st one (always = 1) plus g1, g2, ... \n",
    "\n",
    "# Make new versions of arrays that depend on # of pmoms\n",
    "pmomarray_new = pmomarray[:,:,0:N_maxpmom_new]\n",
    "Npmomarray_new = copy.deepcopy(Npmomarray)\n",
    "\n",
    "# Report new dimension information\n",
    "print (pmomarray_new.shape)"
   ]
  },
  {
   "cell_type": "code",
   "execution_count": 17,
   "metadata": {},
   "outputs": [
    {
     "name": "stdout",
     "output_type": "stream",
     "text": [
      "# zero-fixed =  581\n",
      "# truncated =  131708\n"
     ]
    }
   ],
   "source": [
    "# This is some QC: Fixing any missing data and limiting Npmomarray to the maximum\n",
    "N_truncated = 0\n",
    "N_zerofix = 0\n",
    "for i_reff in range(0,N_reff):\n",
    "    for i_wnum in range(0,N_wnum):\n",
    "        N_fromfortran = Npmomarray_new[i_reff,i_wnum]\n",
    "        \n",
    "        if (N_fromfortran == 0):\n",
    "            Npmomarray_new[i_reff,i_wnum] = 1 # Should be 1 regardless\n",
    "            pmomarray_new[i_reff,i_wnum,0] = 1.0 # Should be 1.0 regardless\n",
    "            N_zerofix += 1\n",
    "            \n",
    "        if (N_fromfortran > N_maxpmom_new):\n",
    "            Npmomarray_new[i_reff,i_wnum] = N_maxpmom_new\n",
    "            N_truncated += 1\n",
    "print (\"# zero-fixed = \", N_zerofix)\n",
    "print (\"# truncated = \", N_truncated)"
   ]
  },
  {
   "cell_type": "code",
   "execution_count": 18,
   "metadata": {},
   "outputs": [
    {
     "name": "stdout",
     "output_type": "stream",
     "text": [
      "# zero-fixed =  0\n",
      "# truncated =  0\n"
     ]
    }
   ],
   "source": [
    "# This is some double-checking that we did the above right\n",
    "N_truncated = 0\n",
    "N_zerofix = 0\n",
    "for i_reff in range(0,N_reff):\n",
    "    for i_wnum in range(0,N_wnum):\n",
    "        N_fromfortran = Npmomarray_new[i_reff,i_wnum]\n",
    "        \n",
    "        if (N_fromfortran == 0):\n",
    "            Npmomarray_new[i_reff,i_wnum] = 1 # Should be 1 regardless\n",
    "            pmomarray_new[i_reff,i_wnum,0] = 1.0 # Should be 1.0 regardless\n",
    "            N_zerofix += 1\n",
    "            \n",
    "        if (N_fromfortran > N_maxpmom_new):\n",
    "            Npmomarray_new[i_reff,i_wnum] = N_maxpmom_new\n",
    "            N_truncated += 1\n",
    "print (\"# zero-fixed = \", N_zerofix)\n",
    "print (\"# truncated = \", N_truncated)"
   ]
  },
  {
   "cell_type": "code",
   "execution_count": 21,
   "metadata": {},
   "outputs": [],
   "source": [
    "# Save the moments as a netcdf file\n",
    "pm.pmomsave2(\\\n",
    "                 ncfilename_truncated,\\\n",
    "                 Npmomarray_new,pmomarray_new,\\\n",
    "                 wnum_mesh, reff_mesh, w0_mesh, qext_mesh, asym_mesh,\\\n",
    "                 wnum_list, reff_list, maxdim_list, volume_list, parea_list)"
   ]
  }
 ],
 "metadata": {
  "kernelspec": {
   "display_name": "Python 3",
   "language": "python",
   "name": "python3"
  },
  "language_info": {
   "codemirror_mode": {
    "name": "ipython",
    "version": 3
   },
   "file_extension": ".py",
   "mimetype": "text/x-python",
   "name": "python",
   "nbconvert_exporter": "python",
   "pygments_lexer": "ipython3",
   "version": "3.6.5"
  }
 },
 "nbformat": 4,
 "nbformat_minor": 1
}
